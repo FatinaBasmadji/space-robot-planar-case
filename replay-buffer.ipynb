{
 "cells": [
  {
   "cell_type": "code",
   "execution_count": null,
   "id": "4ba2cef3",
   "metadata": {},
   "outputs": [],
   "source": [
    "import numpy as np\n",
    "\n",
    "class ReplayBuffer:\n",
    "    def __init__(self, MaxSize=100000, InputShape, NrOfActions):\n",
    "        self.MaxSize = MaxSize\n",
    "        self.Counter = 0\n",
    "        self.States = []\n",
    "        self.Actions = []\n",
    "        self.NextStates = []\n",
    "        self.Rewards = []\n",
    "        self.Dones = []\n",
    "        \n",
    "    def save(self, State, Action, NextState, Reward, Done):\n",
    "        if self.Counter == 0:\n",
    "            self.States = State\n",
    "            self.Actions = Action\n",
    "            self.NextStates = NextState\n",
    "            self.Rewards = Reward\n",
    "            self.Dones = Done\n",
    "        elif self.Counter < self.MaxSize:\n",
    "            self.States = np.concatenate((self.States, State), axis=0)\n",
    "            self.Actions = np.concatenate((self.Actions, Action), axis=0)\n",
    "            self.NextStates = np.concatenate((self.NextStates, NextState), axis=0)\n",
    "            self.Rewards = np.concatenate((self.Rewards, Reward), axis=0)\n",
    "            self.Dones = np.concatenate((self.Dones, Done), axis=0)  \n",
    "        else:\n",
    "            i = self.Counter % self.MaxSize\n",
    "            idx = range(i*np.size(self.States[0]),np.size(self.States[0])+i*np.size(self.States[0]))\n",
    "            np.put(self.States, idx, State)\n",
    "            np.put(self.NextStates, idx, NextState)\n",
    "            idx = range(i*np.size(self.Actions[0]),np.size(self.Actions[0])+i*np.size(self.Actions[0]))\n",
    "            np.put(self.Actions, idx, Action)\n",
    "            idx = range(i*np.size(self.Rewards[0]),np.size(self.Rewards[0])+i*np.size(self.Rewards[0]))\n",
    "            np.put(self.Rewards, idx, Reward)\n",
    "            np.put(self.Dones, idx, Done)\n",
    "        self.Counter =  self.Counter + 1\n",
    "        \n",
    "    def sample(self, BatchSize=64, RandomSample=1):\n",
    "        if RandomSample == 1:\n",
    "            sample = np.random.choice(self.Counter, BatchSize, replace = False)\n",
    "        else:\n",
    "            samplelist = np.arange(0,self.Counter)\n",
    "            sample = np.random.choice(samplelist[-BatchSize:],BatchSize, replace = False)\n",
    "        SampledStates = self.States[sample]\n",
    "        SampledActions = self.Actions[sample]\n",
    "        SampledNextStates = self.NextStates[sample]\n",
    "        SampledRewards = self.Rewards[sample]\n",
    "        SampledDones = self.Dones[sample]\n",
    "        return SampledStates, SampledActions, SampledNextStates, SampledRewards, SampledDones"
   ]
  }
 ],
 "metadata": {
  "kernelspec": {
   "display_name": "Python 3 (ipykernel)",
   "language": "python",
   "name": "python3"
  },
  "language_info": {
   "codemirror_mode": {
    "name": "ipython",
    "version": 3
   },
   "file_extension": ".py",
   "mimetype": "text/x-python",
   "name": "python",
   "nbconvert_exporter": "python",
   "pygments_lexer": "ipython3",
   "version": "3.8.10"
  }
 },
 "nbformat": 4,
 "nbformat_minor": 5
}
